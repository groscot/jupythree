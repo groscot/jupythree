{
 "cells": [
  {
   "cell_type": "markdown",
   "metadata": {},
   "source": [
    "# JupyThree\n",
    "\n",
    "Efficient massive pointclouds and easy triangular meshes"
   ]
  },
  {
   "cell_type": "markdown",
   "metadata": {},
   "source": [
    "## Pointclouds\n",
    "\n",
    "### Basic usage"
   ]
  },
  {
   "cell_type": "code",
   "execution_count": 1,
   "metadata": {
    "ExecuteTime": {
     "end_time": "2022-06-23T07:53:27.924268Z",
     "start_time": "2022-06-23T07:53:27.601390Z"
    }
   },
   "outputs": [],
   "source": [
    "import numpy as np\n",
    "from jupythree.pointcloud import pointcloud"
   ]
  },
  {
   "cell_type": "markdown",
   "metadata": {},
   "source": [
    "Massive pointcloud (2 millions points)"
   ]
  },
  {
   "cell_type": "code",
   "execution_count": 6,
   "metadata": {
    "ExecuteTime": {
     "end_time": "2022-06-23T07:56:46.506669Z",
     "start_time": "2022-06-23T07:56:46.408984Z"
    }
   },
   "outputs": [
    {
     "data": {
      "application/vnd.jupyter.widget-view+json": {
       "model_id": "b59a854953c142bcb2d170be186d2c69",
       "version_major": 2,
       "version_minor": 0
      },
      "text/plain": [
       "Box(children=(VBox(children=(Renderer(camera=PerspectiveCamera(position=(0.8, 0.5, 0.8), projectionMatrix=(1.0…"
      ]
     },
     "metadata": {},
     "output_type": "display_data"
    }
   ],
   "source": [
    "import numpy as np\n",
    "from jupythree.pointcloud import pointcloud\n",
    "\n",
    "N = 2000000\n",
    "x = np.random.random((N,3))/2 - 0.25 # cube\n",
    "\n",
    "pointcloud(x).show(title=\"2 Million points\")"
   ]
  },
  {
   "cell_type": "markdown",
   "metadata": {},
   "source": [
    "> From now on, the other examples will only have 50k points"
   ]
  },
  {
   "cell_type": "markdown",
   "metadata": {},
   "source": [
    "Apply a color to every point"
   ]
  },
  {
   "cell_type": "code",
   "execution_count": 3,
   "metadata": {
    "ExecuteTime": {
     "end_time": "2022-06-23T07:55:01.215149Z",
     "start_time": "2022-06-23T07:55:01.156431Z"
    }
   },
   "outputs": [
    {
     "data": {
      "application/vnd.jupyter.widget-view+json": {
       "model_id": "0752e78da12b477ab960a50e07a92cd6",
       "version_major": 2,
       "version_minor": 0
      },
      "text/plain": [
       "Box(children=(VBox(children=(Renderer(camera=PerspectiveCamera(aspect=1.3333333333333333, position=(0.8, 0.5, …"
      ]
     },
     "metadata": {},
     "output_type": "display_data"
    }
   ],
   "source": [
    "N = 50000\n",
    "x = np.random.random((N,3))\n",
    "c = x.copy()\n",
    "x = x/2 - 0.25\n",
    "\n",
    "pointcloud(x, color=c).show(title=\"RGB <-> position\", width=800, height=600)"
   ]
  },
  {
   "cell_type": "markdown",
   "metadata": {},
   "source": [
    "Get a slider to control the radius of the points"
   ]
  },
  {
   "cell_type": "code",
   "execution_count": 5,
   "metadata": {
    "ExecuteTime": {
     "end_time": "2022-06-23T07:56:09.702301Z",
     "start_time": "2022-06-23T07:56:09.648821Z"
    }
   },
   "outputs": [
    {
     "data": {
      "application/vnd.jupyter.widget-view+json": {
       "model_id": "e7b9eca3ed3442ea84ae7253ebf79361",
       "version_major": 2,
       "version_minor": 0
      },
      "text/plain": [
       "Box(children=(VBox(children=(VBox(children=(FloatSlider(value=1.0, max=2.0, min=0.25, readout_format='.3f', st…"
      ]
     },
     "metadata": {},
     "output_type": "display_data"
    }
   ],
   "source": [
    "pointcloud(x, color=c).with_slider().show()"
   ]
  },
  {
   "cell_type": "markdown",
   "metadata": {},
   "source": [
    "### Scalar fields with colormaps from `matplotlib`\n",
    "\n",
    "This cell also demonstrates how to show several windows in a row, synchronizing the rotations\n",
    "\n",
    "> **Note**: when using the argument `master=...`, only the last window is rendered at first, you need to click somewhere to display the other ones "
   ]
  },
  {
   "cell_type": "code",
   "execution_count": 4,
   "metadata": {
    "ExecuteTime": {
     "end_time": "2022-06-23T07:55:05.205522Z",
     "start_time": "2022-06-23T07:55:05.105443Z"
    }
   },
   "outputs": [
    {
     "data": {
      "application/vnd.jupyter.widget-view+json": {
       "model_id": "82e17053595c48208e16444c1967fc15",
       "version_major": 2,
       "version_minor": 0
      },
      "text/plain": [
       "HBox(children=(Box(children=(VBox(children=(Renderer(camera=PerspectiveCamera(position=(0.8, 0.5, 0.8), projec…"
      ]
     },
     "metadata": {},
     "output_type": "display_data"
    }
   ],
   "source": [
    "# color corresponding to Y coordinate\n",
    "\n",
    "from ipywidgets import HBox\n",
    "from matplotlib import cm\n",
    "\n",
    "wa = pointcloud(x, color=x[:,1]               ).to_window(title=\"viridis (default)\"                       )\n",
    "wb = pointcloud(x, color=x[:,1], cmap=cm.jet  ).to_window(title=\"jet - invisible until clicked\", master=wa)\n",
    "wc = pointcloud(x, color=x[:,1], cmap=cm.ocean).to_window(title=\"ocean\"                        , master=wa)\n",
    "\n",
    "HBox([\n",
    "    wa.show(),\n",
    "    wb.show(),\n",
    "    wc.show()\n",
    "])"
   ]
  },
  {
   "cell_type": "markdown",
   "metadata": {},
   "source": [
    "### Combining pointclouds in the same window"
   ]
  },
  {
   "cell_type": "code",
   "execution_count": null,
   "metadata": {
    "ExecuteTime": {
     "end_time": "2022-06-21T17:26:55.137041Z",
     "start_time": "2022-06-21T17:26:55.126725Z"
    }
   },
   "outputs": [],
   "source": [
    "y = np.random.random((5000,3))/2 - 0.25\n",
    "y /= 2*np.linalg.norm(y, axis=1, keepdims=True) # project to ball\n",
    "c2 = y[:, 0]"
   ]
  },
  {
   "cell_type": "code",
   "execution_count": null,
   "metadata": {
    "ExecuteTime": {
     "end_time": "2022-06-21T17:27:33.969973Z",
     "start_time": "2022-06-21T17:27:33.914770Z"
    }
   },
   "outputs": [],
   "source": [
    "from jupythree.window import window\n",
    "\n",
    "window(pointcloud(x), pointcloud(y, c2, radius=1)).show()"
   ]
  },
  {
   "cell_type": "markdown",
   "metadata": {},
   "source": [
    "### Easy animations\n",
    "\n",
    "You can update the properties of a pointcloud window (positions and/or colors) using `.update()` method:\n",
    "\n",
    "```python\n",
    "pc = pointcloud(X1)\n",
    "X2 = ...\n",
    "pc.update(pc=X2)\n",
    "```\n",
    "\n",
    "> _Tip_ : this can be put every N steps of an optimization procedure (gradient descent, neural network training, etc.) to visualize intermediate states"
   ]
  },
  {
   "cell_type": "code",
   "execution_count": null,
   "metadata": {
    "ExecuteTime": {
     "end_time": "2022-06-22T08:58:44.463740Z",
     "start_time": "2022-06-22T08:58:44.410122Z"
    }
   },
   "outputs": [],
   "source": [
    "# 1. Setup\n",
    "N = 10000\n",
    "\n",
    "X = (np.random.random((N,3)) - 0.5)/2\n",
    "color = X[:,0]\n",
    "pc = pointcloud(X, color)\n",
    "\n",
    "pc.show(title=\"This window will animate when next cell is executed\")"
   ]
  },
  {
   "cell_type": "code",
   "execution_count": null,
   "metadata": {
    "ExecuteTime": {
     "end_time": "2022-06-22T08:58:59.575331Z",
     "start_time": "2022-06-22T08:58:55.127120Z"
    }
   },
   "outputs": [],
   "source": [
    "# 2. Animate (apply random perturbations)\n",
    "import time\n",
    "\n",
    "sigma = 0.002\n",
    "n_seconds = 3\n",
    "fps = 30\n",
    "\n",
    "tick = 1./fps\n",
    "for i in range(n_seconds * fps):\n",
    "    X += np.random.randn(N,3) * sigma\n",
    "    pc.update(pc=X, color=color) # if color is not specified, resets to default color (red)\n",
    "    time.sleep(tick)"
   ]
  },
  {
   "cell_type": "markdown",
   "metadata": {},
   "source": [
    "## Support for meshes\n",
    "\n",
    "The `mesh` class behaves like `pointcloud`, with the differences being:\n",
    "\n",
    "1. It requires both vertices `V` and faces `F`, both are arrays (see example below)\n",
    "2. You can either assign a `constant_color` in rgb hex format (like `u\"#00aaff\"` for aqua blue), or `vertex_color` which will then expect as many colors as vertices in `V` (either scalars with a colormap, or [r,g,b] triplets in [0,1])"
   ]
  },
  {
   "cell_type": "markdown",
   "metadata": {},
   "source": [
    "### Basic usage"
   ]
  },
  {
   "cell_type": "code",
   "execution_count": null,
   "metadata": {
    "ExecuteTime": {
     "end_time": "2022-06-20T21:07:04.379089Z",
     "start_time": "2022-06-20T21:07:04.362169Z"
    }
   },
   "outputs": [],
   "source": [
    "from jupythree.mesh import mesh"
   ]
  },
  {
   "cell_type": "code",
   "execution_count": null,
   "metadata": {
    "ExecuteTime": {
     "end_time": "2022-06-21T08:35:26.463659Z",
     "start_time": "2022-06-21T08:35:26.443249Z"
    }
   },
   "outputs": [],
   "source": [
    "# load the demo mesh\n",
    "\n",
    "V = np.loadtxt(\"example_mesh/V.txt\")\n",
    "F = np.loadtxt(\"example_mesh/F.txt\")\n",
    "print(f\"Array shapes: {V.shape=}, {F.shape=}\")\n",
    "print(f\"Values range: {V.min()=}, {V.max()=}\")"
   ]
  },
  {
   "cell_type": "code",
   "execution_count": null,
   "metadata": {
    "ExecuteTime": {
     "end_time": "2022-06-21T17:51:10.794980Z",
     "start_time": "2022-06-21T17:51:10.742467Z"
    }
   },
   "outputs": [],
   "source": [
    "# Simple way\n",
    "mesh(V, F, constant_color=u\"#00aaff\").show(title=\"Here in aqua (default is gray)\")"
   ]
  },
  {
   "cell_type": "markdown",
   "metadata": {},
   "source": [
    "### Vertex colors\n",
    "\n",
    "Color according to X axis + show red wireframe"
   ]
  },
  {
   "cell_type": "code",
   "execution_count": null,
   "metadata": {
    "ExecuteTime": {
     "end_time": "2022-06-21T17:50:11.832993Z",
     "start_time": "2022-06-21T17:50:11.779636Z"
    }
   },
   "outputs": [],
   "source": [
    "mesh(V, F, vertex_color=V[:,0], lineopacity=1., linecolor=u\"#ff0000\").show(\n",
    "    title=\"Colored along X axis\"\n",
    ")"
   ]
  },
  {
   "cell_type": "markdown",
   "metadata": {},
   "source": [
    "### Combined with a pointcloud"
   ]
  },
  {
   "cell_type": "code",
   "execution_count": null,
   "metadata": {
    "ExecuteTime": {
     "end_time": "2022-06-21T17:52:22.874044Z",
     "start_time": "2022-06-21T17:52:22.820629Z"
    }
   },
   "outputs": [],
   "source": [
    "window(mesh(V, F), pointcloud(y, c2, radius=1)).show()"
   ]
  }
 ],
 "metadata": {
  "interpreter": {
   "hash": "291ca5e3d96a7838a13990bc103d89ab2e22d59a67225db696abdefc0c1b759a"
  },
  "kernelspec": {
   "display_name": "Python 3 (ipykernel)",
   "language": "python",
   "name": "python3"
  },
  "language_info": {
   "codemirror_mode": {
    "name": "ipython",
    "version": 3
   },
   "file_extension": ".py",
   "mimetype": "text/x-python",
   "name": "python",
   "nbconvert_exporter": "python",
   "pygments_lexer": "ipython3",
   "version": "3.9.12"
  },
  "toc": {
   "base_numbering": 1,
   "nav_menu": {},
   "number_sections": true,
   "sideBar": true,
   "skip_h1_title": true,
   "title_cell": "Table of Contents",
   "title_sidebar": "Contents",
   "toc_cell": false,
   "toc_position": {},
   "toc_section_display": true,
   "toc_window_display": false
  }
 },
 "nbformat": 4,
 "nbformat_minor": 2
}
