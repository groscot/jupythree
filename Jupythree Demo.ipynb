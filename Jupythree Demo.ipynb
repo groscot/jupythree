{
 "cells": [
  {
   "cell_type": "markdown",
   "metadata": {},
   "source": [
    "# JupyThree\n",
    "\n",
    "Efficient massive pointclouds and easy triangular meshes"
   ]
  },
  {
   "cell_type": "markdown",
   "metadata": {},
   "source": [
    "## Pointclouds\n",
    "\n",
    "### Basic usage"
   ]
  },
  {
   "cell_type": "code",
   "execution_count": null,
   "metadata": {
    "ExecuteTime": {
     "end_time": "2022-06-29T09:38:56.024398Z",
     "start_time": "2022-06-29T09:38:55.702058Z"
    }
   },
   "outputs": [],
   "source": [
    "import numpy as np\n",
    "from jupythree.pointcloud import pointcloud"
   ]
  },
  {
   "cell_type": "markdown",
   "metadata": {},
   "source": [
    "Massive pointcloud (2 millions points)"
   ]
  },
  {
   "cell_type": "code",
   "execution_count": null,
   "metadata": {
    "ExecuteTime": {
     "end_time": "2022-06-29T09:38:56.491316Z",
     "start_time": "2022-06-29T09:38:56.420427Z"
    }
   },
   "outputs": [],
   "source": [
    "import numpy as np\n",
    "from jupythree.pointcloud import pointcloud\n",
    "\n",
    "N = 2000000\n",
    "x = np.random.random((N,3))/2 - 0.25 # cube"
   ]
  },
  {
   "cell_type": "code",
   "execution_count": null,
   "metadata": {
    "ExecuteTime": {
     "end_time": "2022-06-29T09:38:57.037135Z",
     "start_time": "2022-06-29T09:38:56.960432Z"
    }
   },
   "outputs": [],
   "source": [
    "pointcloud(x).show(title=\"2 Million points\")"
   ]
  },
  {
   "cell_type": "markdown",
   "metadata": {},
   "source": [
    "> From now on, the other examples will only have 50k points"
   ]
  },
  {
   "cell_type": "markdown",
   "metadata": {},
   "source": [
    "Apply a color to every point"
   ]
  },
  {
   "cell_type": "code",
   "execution_count": null,
   "metadata": {
    "ExecuteTime": {
     "end_time": "2022-06-29T09:39:04.396685Z",
     "start_time": "2022-06-29T09:39:04.339548Z"
    }
   },
   "outputs": [],
   "source": [
    "N = 50000\n",
    "x = np.random.random((N,3))\n",
    "c = x.copy()\n",
    "x = x/2 - 0.25\n",
    "\n",
    "pointcloud(x, color=c).show(title=\"RGB <-> position\", width=800, height=600)"
   ]
  },
  {
   "cell_type": "markdown",
   "metadata": {},
   "source": [
    "Get a slider to control the radius of the points"
   ]
  },
  {
   "cell_type": "code",
   "execution_count": null,
   "metadata": {
    "ExecuteTime": {
     "end_time": "2022-06-29T09:39:08.460871Z",
     "start_time": "2022-06-29T09:39:08.404986Z"
    }
   },
   "outputs": [],
   "source": [
    "pointcloud(x, color=c).with_slider().show()"
   ]
  },
  {
   "cell_type": "markdown",
   "metadata": {},
   "source": [
    "### Scalar fields with colormaps from `matplotlib`\n",
    "\n",
    "This cell also demonstrates how to show several windows in a row, synchronizing the rotations\n",
    "\n",
    "> **Note**: when using the argument `master=...`, only the last window is rendered at first, you need to click somewhere to display the other ones "
   ]
  },
  {
   "cell_type": "code",
   "execution_count": null,
   "metadata": {
    "ExecuteTime": {
     "end_time": "2022-06-29T09:39:14.724920Z",
     "start_time": "2022-06-29T09:39:14.613054Z"
    }
   },
   "outputs": [],
   "source": [
    "# color corresponding to Y coordinate\n",
    "\n",
    "from ipywidgets import HBox\n",
    "from matplotlib import cm\n",
    "\n",
    "wa = pointcloud(x, color=x[:,1]               ).to_window(title=\"viridis (default)\"                       )\n",
    "wb = pointcloud(x, color=x[:,1], cmap=cm.jet  ).to_window(title=\"jet - invisible until clicked\", master=wa)\n",
    "wc = pointcloud(x, color=x[:,1], cmap=cm.ocean).to_window(title=\"ocean\"                        , master=wa)\n",
    "\n",
    "HBox([\n",
    "    wa.show(),\n",
    "    wb.show(),\n",
    "    wc.show()\n",
    "])"
   ]
  },
  {
   "cell_type": "markdown",
   "metadata": {},
   "source": [
    "### Combining pointclouds in the same window"
   ]
  },
  {
   "cell_type": "code",
   "execution_count": null,
   "metadata": {
    "ExecuteTime": {
     "end_time": "2022-06-29T09:39:23.161949Z",
     "start_time": "2022-06-29T09:39:23.153971Z"
    }
   },
   "outputs": [],
   "source": [
    "y = np.random.random((5000,3))/2 - 0.25\n",
    "y /= 2*np.linalg.norm(y, axis=1, keepdims=True) # project to ball\n",
    "c2 = y[:, 0]"
   ]
  },
  {
   "cell_type": "code",
   "execution_count": null,
   "metadata": {
    "ExecuteTime": {
     "end_time": "2022-06-29T09:39:23.671567Z",
     "start_time": "2022-06-29T09:39:23.612842Z"
    }
   },
   "outputs": [],
   "source": [
    "from jupythree.window import window\n",
    "\n",
    "window(pointcloud(x), pointcloud(y, c2, radius=1)).show()"
   ]
  },
  {
   "cell_type": "markdown",
   "metadata": {},
   "source": [
    "### Easy animations\n",
    "\n",
    "You can update the properties of a pointcloud window (positions and/or colors) using `.update()` method:\n",
    "\n",
    "```python\n",
    "pc = pointcloud(X1)\n",
    "X2 = ...\n",
    "pc.update(pc=X2)\n",
    "```\n",
    "\n",
    "> _Tip_ : this can be put every N steps of an optimization procedure (gradient descent, neural network training, etc.) to visualize intermediate states"
   ]
  },
  {
   "cell_type": "code",
   "execution_count": null,
   "metadata": {
    "ExecuteTime": {
     "end_time": "2022-06-29T09:39:28.786187Z",
     "start_time": "2022-06-29T09:39:28.730183Z"
    }
   },
   "outputs": [],
   "source": [
    "# 1. Setup\n",
    "N = 10000\n",
    "\n",
    "X = (np.random.random((N,3)) - 0.5)/2\n",
    "color = X[:,0]\n",
    "pc = pointcloud(X, color)\n",
    "\n",
    "pc.show(title=\"This window will animate when next cell is executed\")"
   ]
  },
  {
   "cell_type": "code",
   "execution_count": null,
   "metadata": {
    "ExecuteTime": {
     "end_time": "2022-06-29T09:39:35.876106Z",
     "start_time": "2022-06-29T09:39:31.458495Z"
    }
   },
   "outputs": [],
   "source": [
    "# 2. Animate (apply random perturbations)\n",
    "import time\n",
    "\n",
    "sigma = 0.002\n",
    "n_seconds = 3\n",
    "fps = 30\n",
    "\n",
    "tick = 1./fps\n",
    "for i in range(n_seconds * fps):\n",
    "    X += np.random.randn(N,3) * sigma\n",
    "    pc.update(pc=X, color=color) # if color is not specified, resets to default color (red)\n",
    "    time.sleep(tick)"
   ]
  },
  {
   "cell_type": "markdown",
   "metadata": {},
   "source": [
    "## Support for meshes\n",
    "\n",
    "The `mesh` class behaves like `pointcloud`, with the differences being:\n",
    "\n",
    "1. It requires both vertices `V` and faces `F`, both are arrays (see example below)\n",
    "2. You can either assign a `constant_color` in rgb hex format (like `u\"#00aaff\"` for aqua blue), or `vertex_color` which will then expect as many colors as vertices in `V` (either scalars with a colormap, or [r,g,b] triplets in [0,1])"
   ]
  },
  {
   "cell_type": "markdown",
   "metadata": {},
   "source": [
    "### Basic usage"
   ]
  },
  {
   "cell_type": "code",
   "execution_count": null,
   "metadata": {
    "ExecuteTime": {
     "end_time": "2022-06-29T09:39:38.387761Z",
     "start_time": "2022-06-29T09:39:38.381661Z"
    }
   },
   "outputs": [],
   "source": [
    "from jupythree.mesh import mesh"
   ]
  },
  {
   "cell_type": "code",
   "execution_count": null,
   "metadata": {
    "ExecuteTime": {
     "end_time": "2022-06-29T09:39:38.727433Z",
     "start_time": "2022-06-29T09:39:38.709383Z"
    }
   },
   "outputs": [],
   "source": [
    "# load the demo mesh\n",
    "\n",
    "V = np.loadtxt(\"example_mesh/V.txt\")\n",
    "F = np.loadtxt(\"example_mesh/F.txt\")\n",
    "print(f\"Array shapes: {V.shape=}, {F.shape=}\")\n",
    "print(f\"Values range: {V.min()=}, {V.max()=}\")"
   ]
  },
  {
   "cell_type": "code",
   "execution_count": null,
   "metadata": {
    "ExecuteTime": {
     "end_time": "2022-06-29T09:39:40.136608Z",
     "start_time": "2022-06-29T09:39:40.088933Z"
    }
   },
   "outputs": [],
   "source": [
    "# Simple way\n",
    "mesh(V, F, constant_color=u\"#00aaff\").show(title=\"Here in aqua (default is gray)\")"
   ]
  },
  {
   "cell_type": "markdown",
   "metadata": {},
   "source": [
    "### Vertex colors\n",
    "\n",
    "Color according to X axis + show red wireframe"
   ]
  },
  {
   "cell_type": "code",
   "execution_count": null,
   "metadata": {
    "ExecuteTime": {
     "end_time": "2022-06-29T09:39:44.192984Z",
     "start_time": "2022-06-29T09:39:44.131261Z"
    }
   },
   "outputs": [],
   "source": [
    "mesh(V, F, vertex_color=V[:,0], lineopacity=1., linecolor=u\"#ff0000\").show(\n",
    "    title=\"Colored along X axis\"\n",
    ")"
   ]
  },
  {
   "cell_type": "markdown",
   "metadata": {},
   "source": [
    "### Combined with a pointcloud"
   ]
  },
  {
   "cell_type": "code",
   "execution_count": null,
   "metadata": {
    "ExecuteTime": {
     "end_time": "2022-06-29T09:39:48.682006Z",
     "start_time": "2022-06-29T09:39:48.631487Z"
    }
   },
   "outputs": [],
   "source": [
    "window(mesh(V, F), pointcloud(y, c2, radius=1)).show()"
   ]
  },
  {
   "cell_type": "code",
   "execution_count": null,
   "metadata": {},
   "outputs": [],
   "source": []
  }
 ],
 "metadata": {
  "interpreter": {
   "hash": "291ca5e3d96a7838a13990bc103d89ab2e22d59a67225db696abdefc0c1b759a"
  },
  "kernelspec": {
   "display_name": "Python 3 (ipykernel)",
   "language": "python",
   "name": "python3"
  },
  "language_info": {
   "codemirror_mode": {
    "name": "ipython",
    "version": 3
   },
   "file_extension": ".py",
   "mimetype": "text/x-python",
   "name": "python",
   "nbconvert_exporter": "python",
   "pygments_lexer": "ipython3",
   "version": "3.9.12"
  },
  "toc": {
   "base_numbering": 1,
   "nav_menu": {},
   "number_sections": true,
   "sideBar": true,
   "skip_h1_title": true,
   "title_cell": "Table of Contents",
   "title_sidebar": "Contents",
   "toc_cell": false,
   "toc_position": {},
   "toc_section_display": true,
   "toc_window_display": false
  }
 },
 "nbformat": 4,
 "nbformat_minor": 2
}
