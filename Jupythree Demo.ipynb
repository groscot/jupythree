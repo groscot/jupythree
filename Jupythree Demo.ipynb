{
 "cells": [
  {
   "cell_type": "markdown",
   "metadata": {},
   "source": [
    "# JupyThree\n",
    "\n",
    "Efficient massive pointclouds and easy triangular meshes"
   ]
  },
  {
   "cell_type": "markdown",
   "metadata": {},
   "source": [
    "## Basic Usage"
   ]
  },
  {
   "cell_type": "code",
   "execution_count": null,
   "metadata": {
    "ExecuteTime": {
     "end_time": "2022-06-20T12:07:06.539732Z",
     "start_time": "2022-06-20T12:07:06.288142Z"
    }
   },
   "outputs": [],
   "source": [
    "import numpy as np\n",
    "from jupythree.pointcloud import pointcloud"
   ]
  },
  {
   "cell_type": "markdown",
   "metadata": {},
   "source": [
    "Massive color-coded pointcloud (2 millions points)"
   ]
  },
  {
   "cell_type": "code",
   "execution_count": null,
   "metadata": {
    "ExecuteTime": {
     "end_time": "2022-06-20T12:08:21.186522Z",
     "start_time": "2022-06-20T12:08:21.078843Z"
    }
   },
   "outputs": [],
   "source": [
    "# make a random pointcloud and display it\n",
    "\n",
    "N = 2000000 #<-- two million points\n",
    "x = np.random.random((N,3)) # cube\n",
    "c = x.copy()\n",
    "x = x/2 - 0.25\n",
    "\n",
    "pointcloud(x, color=c).show()"
   ]
  },
  {
   "cell_type": "code",
   "execution_count": null,
   "metadata": {
    "ExecuteTime": {
     "end_time": "2022-06-20T12:08:28.083235Z",
     "start_time": "2022-06-20T12:08:27.964160Z"
    }
   },
   "outputs": [],
   "source": [
    "# color corresponding to Y coordinate\n",
    "# default colormap is viridis, no need to import cm if sticking to it\n",
    "\n",
    "from matplotlib import cm\n",
    "pointcloud(x, color=c[:,1], cmap=cm.rainbow).show()"
   ]
  },
  {
   "cell_type": "markdown",
   "metadata": {},
   "source": [
    "Display along with another pointcloud"
   ]
  },
  {
   "cell_type": "code",
   "execution_count": null,
   "metadata": {
    "ExecuteTime": {
     "end_time": "2022-06-20T12:08:37.134258Z",
     "start_time": "2022-06-20T12:08:37.129209Z"
    }
   },
   "outputs": [],
   "source": [
    "y = np.random.random((5000,3))/2 - 0.25 # ball\n",
    "y /= 2*np.linalg.norm(y, axis=1, keepdims=True)\n",
    "c2 = y[:, 0]"
   ]
  },
  {
   "cell_type": "code",
   "execution_count": null,
   "metadata": {
    "ExecuteTime": {
     "end_time": "2022-06-20T12:08:37.657002Z",
     "start_time": "2022-06-20T12:08:37.579214Z"
    }
   },
   "outputs": [],
   "source": [
    "# option 1: combined in the same view\n",
    "from jupythree.window import window\n",
    "\n",
    "window(pointcloud(x, c), pointcloud(y, c2, radius=2)).show()"
   ]
  },
  {
   "cell_type": "code",
   "execution_count": null,
   "metadata": {
    "ExecuteTime": {
     "end_time": "2022-06-20T12:08:42.876817Z",
     "start_time": "2022-06-20T12:08:42.754415Z"
    }
   },
   "outputs": [],
   "source": [
    "# option 2: side by side with synchronized controls\n",
    "from ipywidgets import HBox\n",
    "\n",
    "wx = pointcloud(x, c).to_window(title=\"Controller\")\n",
    "wy = pointcloud(y, c2).to_window(title=\"Controlled\", master=wx)\n",
    "\n",
    "HBox([\n",
    "    wx.show(),\n",
    "    wy.show(),\n",
    "])"
   ]
  },
  {
   "cell_type": "markdown",
   "metadata": {},
   "source": [
    "Easy animations\n",
    "\n",
    "> _Tip_ : this can be put every N steps of an optimization procedure (gradient descent, neural network training, etc.) to visualize the convergence"
   ]
  },
  {
   "cell_type": "code",
   "execution_count": null,
   "metadata": {
    "ExecuteTime": {
     "end_time": "2022-06-20T12:08:50.891526Z",
     "start_time": "2022-06-20T12:08:50.845605Z"
    }
   },
   "outputs": [],
   "source": [
    "# 1. Setup\n",
    "N = 10000\n",
    "\n",
    "X = (np.random.random((N,3)) - 0.5)/2\n",
    "color = X[:,0]\n",
    "pc = pointcloud(X, color)\n",
    "\n",
    "pc.show()"
   ]
  },
  {
   "cell_type": "code",
   "execution_count": null,
   "metadata": {
    "ExecuteTime": {
     "end_time": "2022-06-20T12:08:59.344414Z",
     "start_time": "2022-06-20T12:08:55.006574Z"
    }
   },
   "outputs": [],
   "source": [
    "# 2. Animate\n",
    "import time\n",
    "\n",
    "sigma = 0.002\n",
    "n_seconds = 3\n",
    "fps = 30\n",
    "\n",
    "tick = 1./fps\n",
    "for i in range(n_seconds * fps):\n",
    "    X += np.random.randn(N,3) * sigma\n",
    "    pc.update(pc=X, color=color) # if color is not specified, resets to default color (red)\n",
    "    time.sleep(tick)"
   ]
  },
  {
   "cell_type": "markdown",
   "metadata": {},
   "source": [
    "## Support for meshes"
   ]
  },
  {
   "cell_type": "markdown",
   "metadata": {},
   "source": [
    "Doc not written yet, check the sources"
   ]
  },
  {
   "cell_type": "code",
   "execution_count": null,
   "metadata": {},
   "outputs": [],
   "source": [
    "from jupythree.mesh import mesh"
   ]
  }
 ],
 "metadata": {
  "interpreter": {
   "hash": "291ca5e3d96a7838a13990bc103d89ab2e22d59a67225db696abdefc0c1b759a"
  },
  "kernelspec": {
   "display_name": "Python 3 (ipykernel)",
   "language": "python",
   "name": "python3"
  },
  "language_info": {
   "codemirror_mode": {
    "name": "ipython",
    "version": 3
   },
   "file_extension": ".py",
   "mimetype": "text/x-python",
   "name": "python",
   "nbconvert_exporter": "python",
   "pygments_lexer": "ipython3",
   "version": "3.9.12"
  },
  "toc": {
   "base_numbering": 1,
   "nav_menu": {},
   "number_sections": true,
   "sideBar": true,
   "skip_h1_title": true,
   "title_cell": "Table of Contents",
   "title_sidebar": "Contents",
   "toc_cell": false,
   "toc_position": {},
   "toc_section_display": true,
   "toc_window_display": false
  }
 },
 "nbformat": 4,
 "nbformat_minor": 2
}
